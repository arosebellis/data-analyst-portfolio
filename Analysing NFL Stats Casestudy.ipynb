{
 "cells": [
  {
   "cell_type": "markdown",
   "id": "b2fab78e",
   "metadata": {},
   "source": [
    "# Analyze NFL Stats with Python\n",
    "\n",
    "### Overview\n",
    "\n",
    "This casestudy covers an analysis of NFL statistics from the 2021 season, containing statistics for 32 teams. It covers:\n",
    "* Data visualisation for game statistics\n",
    "* Modelling statistics to predict winning teams\n",
    "* Tuning the model to improve its accuracy\n",
    "* Determining which statistics were most influential\n",
    "\n",
    "### Dataset\n",
    "The dataset we’re working with comprises NFL game stats during the 2021 NFL season. They contain offensive and defensive stats for each game played by each team (including postseason games where applicable) as well as game details such as which teams are competing, the date of the matchup, and the outcome of the game. This dataset was cleaned and modified by Codecademy to include only the stats we needed for this analysis.\n",
    "\n",
    "Note: the dataset is not loaded into this environment, so running the code a second time will throw an error - however it is currently in its correctly run state."
   ]
  },
  {
   "cell_type": "markdown",
   "id": "4c5a1426",
   "metadata": {},
   "source": [
    "## Setup and inspection"
   ]
  },
  {
   "cell_type": "code",
   "execution_count": 1,
   "id": "8cc870b1",
   "metadata": {},
   "outputs": [],
   "source": [
    "import numpy as np\n",
    "import pandas as pd\n",
    "from sklearn.linear_model import LogisticRegression\n",
    "from sklearn.preprocessing import StandardScaler\n",
    "from sklearn.model_selection import train_test_split\n",
    "from sklearn.metrics import accuracy_score\n",
    "import matplotlib.pyplot as plt\n",
    "import seaborn as sns\n",
    "%matplotlib inline"
   ]
  },
  {
   "cell_type": "markdown",
   "id": "388f14f5",
   "metadata": {},
   "source": [
    "### Task 1 - Load and inspect the dataset\n",
    "\n",
    "The first cell loads the libraries needed for the analysis, using common abbreviations for libraries like numpy and pandas, which save time when writing code. Next, the dataset is loaded and saved as the variable `df`, and inspected manually by printing the first few rows with the `.head()` function."
   ]
  },
  {
   "cell_type": "markdown",
   "id": "8667b893",
   "metadata": {},
   "source": [
    "<details>\n",
    "    <summary style=\"display:list-item;\"><b>Toggle for an overview of the variables in our dataset.</b></summary>\n",
    "\n",
    "* `symbol`: team name abbreviation\n",
    "* `team_name`: team name\n",
    "* `result`: whether this team won (`W`), lost (`L`), or tied (`T`) for this game\n",
    "* `1stD_offense`: First down conversions by the team's offense\n",
    "* `TotYd_offense`: Total yards gained by the team's offense\n",
    "* `PassY_offense`: Total passing yards gained by the team's offense\n",
    "* `RushY_offense`: Total rushing yards gained by the team's offense\n",
    "* `TO_offense`: Turnovers committed by the team's offense\n",
    "* `1stD_defense`: First down conversions allowed by the team's defense\n",
    "* `TotYd_defense`: Total yards allowed by the team's defense\n",
    "* `PassY_defense`: Total passing yards allowed by the team's defense\n",
    "* `RushY_defense`: Total rushing yards allowed by the team's defense\n",
    "* `TO_defense`: Turnovers in favor of the defensive team\n",
    "\n",
    "</details>"
   ]
  },
  {
   "cell_type": "code",
   "execution_count": 2,
   "id": "384c95dc",
   "metadata": {},
   "outputs": [
    {
     "data": {
      "text/html": [
       "<div>\n",
       "<style scoped>\n",
       "    .dataframe tbody tr th:only-of-type {\n",
       "        vertical-align: middle;\n",
       "    }\n",
       "\n",
       "    .dataframe tbody tr th {\n",
       "        vertical-align: top;\n",
       "    }\n",
       "\n",
       "    .dataframe thead th {\n",
       "        text-align: right;\n",
       "    }\n",
       "</style>\n",
       "<table border=\"1\" class=\"dataframe\">\n",
       "  <thead>\n",
       "    <tr style=\"text-align: right;\">\n",
       "      <th></th>\n",
       "      <th>team_name</th>\n",
       "      <th>week</th>\n",
       "      <th>day</th>\n",
       "      <th>date</th>\n",
       "      <th>result</th>\n",
       "      <th>opponent</th>\n",
       "      <th>tm_score</th>\n",
       "      <th>opp_score</th>\n",
       "      <th>1stD_offense</th>\n",
       "      <th>TotYd_offense</th>\n",
       "      <th>PassY_offense</th>\n",
       "      <th>RushY_offense</th>\n",
       "      <th>TO_offense</th>\n",
       "      <th>1stD_defense</th>\n",
       "      <th>TotYd_defense</th>\n",
       "      <th>PassY_defense</th>\n",
       "      <th>RushY_defense</th>\n",
       "      <th>TO_defense</th>\n",
       "    </tr>\n",
       "  </thead>\n",
       "  <tbody>\n",
       "    <tr>\n",
       "      <th>0</th>\n",
       "      <td>Arizona Cardinals</td>\n",
       "      <td>1</td>\n",
       "      <td>Sun</td>\n",
       "      <td>September 12</td>\n",
       "      <td>W</td>\n",
       "      <td>Tennessee Titans</td>\n",
       "      <td>38</td>\n",
       "      <td>13</td>\n",
       "      <td>22</td>\n",
       "      <td>416</td>\n",
       "      <td>280</td>\n",
       "      <td>136</td>\n",
       "      <td>1</td>\n",
       "      <td>17</td>\n",
       "      <td>248</td>\n",
       "      <td>162</td>\n",
       "      <td>86</td>\n",
       "      <td>3</td>\n",
       "    </tr>\n",
       "    <tr>\n",
       "      <th>1</th>\n",
       "      <td>Arizona Cardinals</td>\n",
       "      <td>2</td>\n",
       "      <td>Sun</td>\n",
       "      <td>September 19</td>\n",
       "      <td>W</td>\n",
       "      <td>Minnesota Vikings</td>\n",
       "      <td>34</td>\n",
       "      <td>33</td>\n",
       "      <td>21</td>\n",
       "      <td>474</td>\n",
       "      <td>371</td>\n",
       "      <td>103</td>\n",
       "      <td>2</td>\n",
       "      <td>22</td>\n",
       "      <td>419</td>\n",
       "      <td>242</td>\n",
       "      <td>177</td>\n",
       "      <td>0</td>\n",
       "    </tr>\n",
       "    <tr>\n",
       "      <th>2</th>\n",
       "      <td>Arizona Cardinals</td>\n",
       "      <td>3</td>\n",
       "      <td>Sun</td>\n",
       "      <td>September 26</td>\n",
       "      <td>W</td>\n",
       "      <td>Jacksonville Jaguars</td>\n",
       "      <td>31</td>\n",
       "      <td>19</td>\n",
       "      <td>23</td>\n",
       "      <td>407</td>\n",
       "      <td>316</td>\n",
       "      <td>91</td>\n",
       "      <td>1</td>\n",
       "      <td>20</td>\n",
       "      <td>361</td>\n",
       "      <td>202</td>\n",
       "      <td>159</td>\n",
       "      <td>4</td>\n",
       "    </tr>\n",
       "    <tr>\n",
       "      <th>3</th>\n",
       "      <td>Arizona Cardinals</td>\n",
       "      <td>4</td>\n",
       "      <td>Sun</td>\n",
       "      <td>October 3</td>\n",
       "      <td>W</td>\n",
       "      <td>Los Angeles Rams</td>\n",
       "      <td>37</td>\n",
       "      <td>20</td>\n",
       "      <td>27</td>\n",
       "      <td>465</td>\n",
       "      <td>249</td>\n",
       "      <td>216</td>\n",
       "      <td>0</td>\n",
       "      <td>24</td>\n",
       "      <td>401</td>\n",
       "      <td>280</td>\n",
       "      <td>121</td>\n",
       "      <td>2</td>\n",
       "    </tr>\n",
       "    <tr>\n",
       "      <th>4</th>\n",
       "      <td>Arizona Cardinals</td>\n",
       "      <td>5</td>\n",
       "      <td>Sun</td>\n",
       "      <td>October 10</td>\n",
       "      <td>W</td>\n",
       "      <td>San Francisco 49ers</td>\n",
       "      <td>17</td>\n",
       "      <td>10</td>\n",
       "      <td>20</td>\n",
       "      <td>304</td>\n",
       "      <td>210</td>\n",
       "      <td>94</td>\n",
       "      <td>1</td>\n",
       "      <td>19</td>\n",
       "      <td>338</td>\n",
       "      <td>186</td>\n",
       "      <td>152</td>\n",
       "      <td>1</td>\n",
       "    </tr>\n",
       "  </tbody>\n",
       "</table>\n",
       "</div>"
      ],
      "text/plain": [
       "           team_name week  day          date result              opponent  \\\n",
       "0  Arizona Cardinals    1  Sun  September 12      W      Tennessee Titans   \n",
       "1  Arizona Cardinals    2  Sun  September 19      W     Minnesota Vikings   \n",
       "2  Arizona Cardinals    3  Sun  September 26      W  Jacksonville Jaguars   \n",
       "3  Arizona Cardinals    4  Sun     October 3      W      Los Angeles Rams   \n",
       "4  Arizona Cardinals    5  Sun    October 10      W   San Francisco 49ers   \n",
       "\n",
       "   tm_score  opp_score  1stD_offense  TotYd_offense  PassY_offense  \\\n",
       "0        38         13            22            416            280   \n",
       "1        34         33            21            474            371   \n",
       "2        31         19            23            407            316   \n",
       "3        37         20            27            465            249   \n",
       "4        17         10            20            304            210   \n",
       "\n",
       "   RushY_offense  TO_offense  1stD_defense  TotYd_defense  PassY_defense  \\\n",
       "0            136           1            17            248            162   \n",
       "1            103           2            22            419            242   \n",
       "2             91           1            20            361            202   \n",
       "3            216           0            24            401            280   \n",
       "4             94           1            19            338            186   \n",
       "\n",
       "   RushY_defense  TO_defense  \n",
       "0             86           3  \n",
       "1            177           0  \n",
       "2            159           4  \n",
       "3            121           2  \n",
       "4            152           1  "
      ]
     },
     "execution_count": 2,
     "metadata": {},
     "output_type": "execute_result"
    }
   ],
   "source": [
    "# load dataset\n",
    "nfl = pd.read_csv('season_2021.csv')\n",
    "\n",
    "# inspect first few rows\n",
    "nfl.head()"
   ]
  },
  {
   "cell_type": "markdown",
   "id": "9b022de9",
   "metadata": {},
   "source": [
    "### Task 2 - Summarise the outcome variable\n",
    "\n",
    "The outcome variable `result` can be summarised using `.value_counts()`, which produces a summed count of the number of times each value is found in the dataset."
   ]
  },
  {
   "cell_type": "code",
   "execution_count": 3,
   "id": "cc61ee21",
   "metadata": {},
   "outputs": [
    {
     "data": {
      "text/plain": [
       "W    284\n",
       "L    284\n",
       "T      2\n",
       "Name: result, dtype: int64"
      ]
     },
     "execution_count": 3,
     "metadata": {},
     "output_type": "execute_result"
    }
   ],
   "source": [
    "# check result value counts\n",
    "nfl.result.value_counts()"
   ]
  },
  {
   "cell_type": "markdown",
   "id": "c2e85067",
   "metadata": {},
   "source": [
    "This code reveals that the `result` variable is encoded in three levels: win (`W`), loss (`L`), or tie (`T`). As each game was played by two teams, this also reveals that there were 285 games played, and that one of the games was a tie."
   ]
  },
  {
   "cell_type": "markdown",
   "id": "53e74299",
   "metadata": {},
   "source": [
    "### Task 3 - Re-encoding the result variable\n",
    "\n",
    "The `result` variable therefore poses two problems:\n",
    "* Having one very small group can cause issues with the accuracy, or even the ability to function, of a regression model.\n",
    "* The regression algorithm requires a numerically coded outcome variable (`result` is currently encoded with letters)\n",
    "\n",
    "This can be solved using the `.replace()` function, which allows us to group the tied game with the losses (neither team won that match after all), and convert the wins to 1 and the losses to 0. This will produce two groups with very similar sample sizes, which is ideal for regression modelling."
   ]
  },
  {
   "cell_type": "code",
   "execution_count": 4,
   "id": "77178bee",
   "metadata": {},
   "outputs": [
    {
     "data": {
      "text/plain": [
       "0    286\n",
       "1    284\n",
       "Name: result, dtype: int64"
      ]
     },
     "execution_count": 4,
     "metadata": {},
     "output_type": "execute_result"
    }
   ],
   "source": [
    "# nested dictionary to encode alphanumeric values to numeric values\n",
    "result_encoder = {'result': {'W': 1, 'T': 0, 'L': 0}}\n",
    "\n",
    "# encode result column using encoder\n",
    "nfl.replace(result_encoder, inplace = True)\n",
    "\n",
    "# check result value counts\n",
    "nfl.result.value_counts()"
   ]
  },
  {
   "cell_type": "markdown",
   "id": "2248c64d",
   "metadata": {},
   "source": [
    "### Task 4 - Data visualisation of the statistics\n",
    "\n",
    "The `stat` variable has been set to `1stD_offense` by default. The code below also provides a list of the statisics found in the dataset, which can be subbed in for `1stD_offense` to create a new boxplot.\n",
    "\n",
    "`sns.boxplot()` can be used to create a boxplot of `stat`, split by wins and losses. This boxplot shows the difference in the frequency of that particular statistic (in this case, 1st down conversions by the offence) depending on if the team won or lost a match.\n",
    "\n",
    "This boxplot shows:\n",
    "* First down conversions by the offense are typically between 12 and 33 in winning games (as depicted by the T-shaped ends of the plot). \n",
    "* The middle 50% of winning games appears to cover about 20 to 26 first down conversions (as depicted by the orange box).\n",
    "* The middle line indicates a median of about 23 first down conversions by the winning team.\n",
    "\n",
    "And when compared to losing games, the winning team typically has a higher number of first downs."
   ]
  },
  {
   "cell_type": "code",
   "execution_count": 7,
   "id": "fd1c6dc4",
   "metadata": {
    "scrolled": true
   },
   "outputs": [
    {
     "data": {
      "image/png": "[encoded data removed]",
      "text/plain": [
       "<Figure size 640x480 with 1 Axes>"
      ]
     },
     "metadata": {},
     "output_type": "display_data"
    },
    {
     "name": "stdout",
     "output_type": "stream",
     "text": [
      "Index(['1stD_offense', 'TotYd_offense', 'PassY_offense', 'RushY_offense',\n",
      "       'TO_offense', '1stD_defense', 'TotYd_defense', 'PassY_defense',\n",
      "       'RushY_defense', 'TO_defense'],\n",
      "      dtype='object')\n"
     ]
    }
   ],
   "source": [
    "# change stat to view plot\n",
    "stat = '1stD_offense'\n",
    "\n",
    "# box plot of stat\n",
    "stat_plot = sns.boxplot(x = nfl.result, y = stat, data = nfl)\n",
    "\n",
    "# plot labels\n",
    "stat_plot.set_xticklabels(['loss/tie','win'])\n",
    "plt.show()\n",
    "# list feature names\n",
    "print(nfl.columns[8:])"
   ]
  },
  {
   "cell_type": "markdown",
   "id": "1840ce02",
   "metadata": {},
   "source": [
    "The trend found with all of the stats is that winning teams have higher offensive stats on average (more opportunities to score points) and lower defensive stats on average (fewer opportunities for the opponent to score points). This should indicate a strong relationship between these statistics and the game's result, and should make for a fairly straightforward pattern for the algorithm to learn."
   ]
  },
  {
   "cell_type": "markdown",
   "id": "2b608d90",
   "metadata": {},
   "source": [
    "## Data Preparation"
   ]
  },
  {
   "cell_type": "markdown",
   "id": "f0669cf1",
   "metadata": {},
   "source": [
    "### Task 5 - Standardize features\n",
    "\n",
    "Before creating the regression model, the data needs to be prepared by standardizing the statistics. This code saves the stats to a variable (`features`) and saves the scaling function as `scaler`. "
   ]
  },
  {
   "cell_type": "code",
   "execution_count": 8,
   "id": "686fd4ba",
   "metadata": {},
   "outputs": [],
   "source": [
    "# select feature variables to be scaled\n",
    "features = nfl.iloc[:,8:]\n",
    "scaler = StandardScaler()\n",
    "\n",
    "# fit the transformer to the features\n",
    "scaler.fit(features)\n",
    "\n",
    "# transform and save as X\n",
    "X = scaler.transform(features)"
   ]
  },
  {
   "cell_type": "markdown",
   "id": "2544e02a",
   "metadata": {},
   "source": [
    "The statistics are standardised by subtracting the mean and dividing by the standard deviation. This results in all of the statistics having a mean of 0 and a standard deviation of 1. As well as this:\n",
    "* All of the stats are now in the same units, which means they can all be compared to one another.\n",
    "* Tuning techniques that require standardisation can now be used to improve prediction model accuracy."
   ]
  },
  {
   "cell_type": "markdown",
   "id": "328a0a2c",
   "metadata": {},
   "source": [
    "### Task 6 - Save game outcomes (the outcome variable `result`)\n",
    "\n",
    "Saving the game outcome variable as `y` is useful as it means it can be referred to later on."
   ]
  },
  {
   "cell_type": "code",
   "execution_count": 9,
   "id": "fff4a8f8",
   "metadata": {},
   "outputs": [],
   "source": [
    "# save result variable as y\n",
    "y = nfl.result"
   ]
  },
  {
   "cell_type": "markdown",
   "id": "30d66b8f",
   "metadata": {},
   "source": [
    "### Task 7 - Split into training and testing data\n",
    "\n",
    "We need to randomly split the data into two groups:\n",
    "* **training data:** we'll use this data to train our model to recognize winning games from patterns in the game stats.\n",
    "* **testing data:** we'll use this data to check our model's accuracy.\n",
    "\n",
    "The `train_test_split()` function can be used to split the data - the parameters needed are the features (`X`), results (`y`), `test_size`, which is the proportion of data reserved for testing (0.5), and `random_state` (set to 42)."
   ]
  },
  {
   "cell_type": "code",
   "execution_count": 13,
   "id": "b0ebdb9f",
   "metadata": {},
   "outputs": [],
   "source": [
    "# create train-test split of the data\n",
    "X_train, X_test, y_train, y_test = train_test_split(X, y, test_size = 0.5, random_state = 42)"
   ]
  },
  {
   "cell_type": "markdown",
   "id": "48c21f67",
   "metadata": {},
   "source": [
    "## Analysis"
   ]
  },
  {
   "cell_type": "markdown",
   "id": "3f4bd4ec",
   "metadata": {},
   "source": [
    "### Task 8 - Run the model\n",
    "\n",
    "The code below creates a logistic regression model and trains it to the data that was set aside as training data by the `train_test_split()` function in task 7."
   ]
  },
  {
   "cell_type": "code",
   "execution_count": 4,
   "id": "81d3521c",
   "metadata": {},
   "outputs": [
    {
     "ename": "NameError",
     "evalue": "name 'X_train' is not defined",
     "output_type": "error",
     "traceback": [
      "\u001b[0;31m---------------------------------------------------------------------------\u001b[0m",
      "\u001b[0;31mNameError\u001b[0m                                 Traceback (most recent call last)",
      "Cell \u001b[0;32mIn[4], line 5\u001b[0m\n\u001b[1;32m      2\u001b[0m lrc \u001b[38;5;241m=\u001b[39m LogisticRegression()\n\u001b[1;32m      4\u001b[0m \u001b[38;5;66;03m# fit classifier to the training data\u001b[39;00m\n\u001b[0;32m----> 5\u001b[0m lrc\u001b[38;5;241m.\u001b[39mfit(X_train, y_train)\n",
      "\u001b[0;31mNameError\u001b[0m: name 'X_train' is not defined"
     ]
    }
   ],
   "source": [
    "# create the classifier\n",
    "lrc = LogisticRegression()\n",
    "\n",
    "# fit classifier to the training data\n",
    "lrc.fit(X_train, y_train)"
   ]
  },
  {
   "cell_type": "markdown",
   "id": "211af520",
   "metadata": {},
   "source": [
    "### Task 9 - Check model accuracy\n",
    "\n",
    "With our classifier fitted (trained) to the training data, we can use the trained classifier to make predictions on the test data. \n",
    "This is done by passing the test features as a parameter of the `lrc.predict()` function, which has also been saved as `y_pred`.\n",
    "\n",
    "To check the percentage of outcomes predicted correctly by the model, `y_pred` and `y_test` are passed into the `accuracy_score()` function."
   ]
  },
  {
   "cell_type": "code",
   "execution_count": 17,
   "id": "ab2e1383",
   "metadata": {},
   "outputs": [
    {
     "data": {
      "text/plain": [
       "0.8280701754385965"
      ]
     },
     "execution_count": 17,
     "metadata": {},
     "output_type": "execute_result"
    }
   ],
   "source": [
    "# predict with the classifier using the .predict() function\n",
    "y_pred = lrc.predict(X_test)\n",
    "\n",
    "# view the model accuracy with the accuracy_score() function\n",
    "accuracy_score(y_pred, y_test)"
   ]
  },
  {
   "cell_type": "markdown",
   "id": "8ce0f99d",
   "metadata": {},
   "source": [
    "This shows that the model correctly predicted the game outcome for 82.8% of games in the test set."
   ]
  },
  {
   "cell_type": "markdown",
   "id": "c31f3ac6",
   "metadata": {},
   "source": [
    "### Task 10 - Optimize by tuning hyperparameters\n",
    "\n",
    "The model performance can be improved by studying how different parameters affect its performance - e.g. `penalty` and `C` from `LogisticRegression`.\n",
    "\n",
    "* `penalty` imposes a regularization penalty on the model for having too many variables. Our options generally are `l1` and `l2` regularization.\n",
    "* `C` is the inverse of regularization strength. It is applying a penalty to increasing the magnitude of parameter values in order to reduce overfitting.\n",
    "\n",
    "The following code runs a logistic regression on our same data and gets an accuracy score for each combination of `penalty` and `C`."
   ]
  },
  {
   "cell_type": "code",
   "execution_count": 18,
   "id": "721ab861",
   "metadata": {},
   "outputs": [
    {
     "name": "stdout",
     "output_type": "stream",
     "text": [
      "Accuracy: 52.3% | penalty = l1, C = 0.01\n",
      "Accuracy: 84.6% | penalty = l1, C = 0.1\n",
      "Accuracy: 83.2% | penalty = l1, C = 1.0\n",
      "Accuracy: 82.5% | penalty = l1, C = 10.0\n",
      "Accuracy: 82.5% | penalty = l1, C = 1000.0\n",
      "Accuracy: 80.4% | penalty = l2, C = 0.01\n",
      "Accuracy: 83.5% | penalty = l2, C = 0.1\n",
      "Accuracy: 82.8% | penalty = l2, C = 1.0\n",
      "Accuracy: 82.5% | penalty = l2, C = 10.0\n",
      "Accuracy: 82.5% | penalty = l2, C = 1000.0\n"
     ]
    }
   ],
   "source": [
    "# create a list of penalties\n",
    "penalties = ['l1', 'l2']\n",
    "# create a list of values for C\n",
    "C = [0.01, 0.1, 1.0, 10.0, 1000.0]\n",
    "\n",
    "for penalty in penalties:\n",
    "    for c in C:\n",
    "\n",
    "        # instantiate the classifier\n",
    "        lrc_tuned = LogisticRegression(penalty=penalty, C=c, solver='liblinear')\n",
    "\n",
    "        # fit the classifier to the training data\n",
    "        lrc_tuned.fit(X_train, y_train)\n",
    "        \n",
    "        # predict with the classifier using the .predict() function\n",
    "        y_pred = lrc_tuned.predict(X_test)\n",
    "\n",
    "        # view the model accuracy with the accuracy_score() function\n",
    "        accuracy = accuracy_score(y_test, y_pred)\n",
    "        accuracy_rd = round(accuracy*100,1)\n",
    "        \n",
    "        # print accuracy for each combination of penalty and C\n",
    "        print(f'Accuracy: {accuracy_rd}% | penalty = {penalty}, C = {c}')"
   ]
  },
  {
   "cell_type": "markdown",
   "id": "294195cd",
   "metadata": {},
   "source": [
    "These accuracy codes are very similar to the original accuracy score - this is partly due to the fact that `LogisticRegression` automatically uses `penalty = l2` and `C = 1.0`. Changing the hyperparameters to `penalty = l1` and `C = 0.1` in this circumstance increases the accuracy of the model from 82.8% to 84.6%."
   ]
  },
  {
   "cell_type": "markdown",
   "id": "a7157c02",
   "metadata": {},
   "source": [
    "### Task 11 - Optimize by changing test size\n",
    "\n",
    "Another method of parameter tuning is changing the test size of the train-test split. "
   ]
  },
  {
   "cell_type": "code",
   "execution_count": 19,
   "id": "59988a50",
   "metadata": {},
   "outputs": [
    {
     "name": "stdout",
     "output_type": "stream",
     "text": [
      "Accuracy: 87.7% | test size = 0.2\n",
      "Accuracy: 87.5% | test size = 0.21\n",
      "Accuracy: 87.3% | test size = 0.22\n",
      "Accuracy: 87.9% | test size = 0.23\n",
      "Accuracy: 88.3% | test size = 0.24\n",
      "Accuracy: 88.8% | test size = 0.25\n",
      "Accuracy: 87.9% | test size = 0.26\n",
      "Accuracy: 88.3% | test size = 0.27\n",
      "Accuracy: 88.1% | test size = 0.28\n",
      "Accuracy: 88.6% | test size = 0.29\n",
      "Accuracy: 87.1% | test size = 0.3\n",
      "Accuracy: 87.6% | test size = 0.31\n",
      "Accuracy: 86.9% | test size = 0.32\n",
      "Accuracy: 87.3% | test size = 0.33\n",
      "Accuracy: 86.1% | test size = 0.34\n",
      "Accuracy: 86.0% | test size = 0.35\n"
     ]
    }
   ],
   "source": [
    "# optimal penalty and C\n",
    "penalty = 'l1'\n",
    "C = 0.1\n",
    "\n",
    "# create a list of test_sizes\n",
    "test_sizes = [val/100 for val in range(20,36)]\n",
    "\n",
    "for test_size in test_sizes:\n",
    "\n",
    "    # train-test split\n",
    "    X_train, X_test, y_train, y_test = train_test_split(X, y, test_size=test_size, random_state=42)\n",
    "\n",
    "    # instantiate the classifier\n",
    "    lrc_tts = LogisticRegression(penalty = penalty, C = C, solver='liblinear')\n",
    "\n",
    "    # fit the classifier to the training data\n",
    "    lrc_tts.fit(X_train, y_train)\n",
    "\n",
    "    # predict with the classifier using the .predict() function\n",
    "    y_pred = lrc_tts.predict(X_test)\n",
    "\n",
    "    # view the model accuracy with the accuracy_score() function\n",
    "    accuracy = accuracy_score(y_test, y_pred)\n",
    "    accuracy_rd = round(accuracy*100,1)\n",
    "    \n",
    "    # print accuracy for each combination of penalty and test size\n",
    "    print(f'Accuracy: {accuracy_rd}% | test size = {test_size}')"
   ]
  },
  {
   "cell_type": "markdown",
   "id": "bb1fc6d9",
   "metadata": {},
   "source": [
    "The output indicates that the accuracy was improved the most with a test size of 0.25 - it was improved from 84.6% to 88.8%."
   ]
  },
  {
   "cell_type": "markdown",
   "id": "bcb1c87a",
   "metadata": {},
   "source": [
    "### Task 12 - Save the optimized model\n",
    "\n",
    "The code below saves the optimized parameters (`test_size`, `penalty`, and `C`) found above into a final model which is saved as `optLr`. `random_state` is still set as 42."
   ]
  },
  {
   "cell_type": "code",
   "execution_count": 20,
   "id": "8e5de054",
   "metadata": {},
   "outputs": [
    {
     "data": {
      "text/html": [
       "<style>#sk-container-id-2 {color: black;background-color: white;}#sk-container-id-2 pre{padding: 0;}#sk-container-id-2 div.sk-toggleable {background-color: white;}#sk-container-id-2 label.sk-toggleable__label {cursor: pointer;display: block;width: 100%;margin-bottom: 0;padding: 0.3em;box-sizing: border-box;text-align: center;}#sk-container-id-2 label.sk-toggleable__label-arrow:before {content: \"▸\";float: left;margin-right: 0.25em;color: #696969;}#sk-container-id-2 label.sk-toggleable__label-arrow:hover:before {color: black;}#sk-container-id-2 div.sk-estimator:hover label.sk-toggleable__label-arrow:before {color: black;}#sk-container-id-2 div.sk-toggleable__content {max-height: 0;max-width: 0;overflow: hidden;text-align: left;background-color: #f0f8ff;}#sk-container-id-2 div.sk-toggleable__content pre {margin: 0.2em;color: black;border-radius: 0.25em;background-color: #f0f8ff;}#sk-container-id-2 input.sk-toggleable__control:checked~div.sk-toggleable__content {max-height: 200px;max-width: 100%;overflow: auto;}#sk-container-id-2 input.sk-toggleable__control:checked~label.sk-toggleable__label-arrow:before {content: \"▾\";}#sk-container-id-2 div.sk-estimator input.sk-toggleable__control:checked~label.sk-toggleable__label {background-color: #d4ebff;}#sk-container-id-2 div.sk-label input.sk-toggleable__control:checked~label.sk-toggleable__label {background-color: #d4ebff;}#sk-container-id-2 input.sk-hidden--visually {border: 0;clip: rect(1px 1px 1px 1px);clip: rect(1px, 1px, 1px, 1px);height: 1px;margin: -1px;overflow: hidden;padding: 0;position: absolute;width: 1px;}#sk-container-id-2 div.sk-estimator {font-family: monospace;background-color: #f0f8ff;border: 1px dotted black;border-radius: 0.25em;box-sizing: border-box;margin-bottom: 0.5em;}#sk-container-id-2 div.sk-estimator:hover {background-color: #d4ebff;}#sk-container-id-2 div.sk-parallel-item::after {content: \"\";width: 100%;border-bottom: 1px solid gray;flex-grow: 1;}#sk-container-id-2 div.sk-label:hover label.sk-toggleable__label {background-color: #d4ebff;}#sk-container-id-2 div.sk-serial::before {content: \"\";position: absolute;border-left: 1px solid gray;box-sizing: border-box;top: 0;bottom: 0;left: 50%;z-index: 0;}#sk-container-id-2 div.sk-serial {display: flex;flex-direction: column;align-items: center;background-color: white;padding-right: 0.2em;padding-left: 0.2em;position: relative;}#sk-container-id-2 div.sk-item {position: relative;z-index: 1;}#sk-container-id-2 div.sk-parallel {display: flex;align-items: stretch;justify-content: center;background-color: white;position: relative;}#sk-container-id-2 div.sk-item::before, #sk-container-id-2 div.sk-parallel-item::before {content: \"\";position: absolute;border-left: 1px solid gray;box-sizing: border-box;top: 0;bottom: 0;left: 50%;z-index: -1;}#sk-container-id-2 div.sk-parallel-item {display: flex;flex-direction: column;z-index: 1;position: relative;background-color: white;}#sk-container-id-2 div.sk-parallel-item:first-child::after {align-self: flex-end;width: 50%;}#sk-container-id-2 div.sk-parallel-item:last-child::after {align-self: flex-start;width: 50%;}#sk-container-id-2 div.sk-parallel-item:only-child::after {width: 0;}#sk-container-id-2 div.sk-dashed-wrapped {border: 1px dashed gray;margin: 0 0.4em 0.5em 0.4em;box-sizing: border-box;padding-bottom: 0.4em;background-color: white;}#sk-container-id-2 div.sk-label label {font-family: monospace;font-weight: bold;display: inline-block;line-height: 1.2em;}#sk-container-id-2 div.sk-label-container {text-align: center;}#sk-container-id-2 div.sk-container {/* jupyter's `normalize.less` sets `[hidden] { display: none; }` but bootstrap.min.css set `[hidden] { display: none !important; }` so we also need the `!important` here to be able to override the default hidden behavior on the sphinx rendered scikit-learn.org. See: https://github.com/scikit-learn/scikit-learn/issues/21755 */display: inline-block !important;position: relative;}#sk-container-id-2 div.sk-text-repr-fallback {display: none;}</style><div id=\"sk-container-id-2\" class=\"sk-top-container\"><div class=\"sk-text-repr-fallback\"><pre>LogisticRegression(C=0.1, penalty=&#x27;l1&#x27;, solver=&#x27;liblinear&#x27;)</pre><b>In a Jupyter environment, please rerun this cell to show the HTML representation or trust the notebook. <br />On GitHub, the HTML representation is unable to render, please try loading this page with nbviewer.org.</b></div><div class=\"sk-container\" hidden><div class=\"sk-item\"><div class=\"sk-estimator sk-toggleable\"><input class=\"sk-toggleable__control sk-hidden--visually\" id=\"sk-estimator-id-2\" type=\"checkbox\" checked><label for=\"sk-estimator-id-2\" class=\"sk-toggleable__label sk-toggleable__label-arrow\">LogisticRegression</label><div class=\"sk-toggleable__content\"><pre>LogisticRegression(C=0.1, penalty=&#x27;l1&#x27;, solver=&#x27;liblinear&#x27;)</pre></div></div></div></div></div>"
      ],
      "text/plain": [
       "LogisticRegression(C=0.1, penalty='l1', solver='liblinear')"
      ]
     },
     "execution_count": 20,
     "metadata": {},
     "output_type": "execute_result"
    }
   ],
   "source": [
    "# set the test size and hyperparameters\n",
    "test_size = 0.25\n",
    "penalty = \"l1\"\n",
    "C = 0.1\n",
    "\n",
    "# train-test split\n",
    "X_train, X_test, y_train, y_test = train_test_split(X, y, test_size = test_size, random_state = 42)\n",
    "\n",
    "# instantiate the classifier\n",
    "optLr = LogisticRegression(penalty = penalty, C = C, solver='liblinear')\n",
    "\n",
    "# fit the classifier to the training data\n",
    "optLr.fit(X_train, y_train)"
   ]
  },
  {
   "cell_type": "markdown",
   "id": "92a84c85",
   "metadata": {},
   "source": [
    "### Task 13 - Examine feature importance\n",
    "The next step is to find out which stats were most important to the model predicting wins. The absolute values of the model coefficients are saved as `importance`.\n",
    "\n",
    "These absolute values are then visualized in a bar chart, which can be used to establish which statistic had the most importance in the predicting ability of the model."
   ]
  },
  {
   "cell_type": "code",
   "execution_count": 21,
   "id": "c62690ad",
   "metadata": {},
   "outputs": [
    {
     "data": {
      "image/png": "[encoded data removed]",
      "text/plain": [
       "<Figure size 640x480 with 1 Axes>"
      ]
     },
     "metadata": {},
     "output_type": "display_data"
    },
    {
     "name": "stdout",
     "output_type": "stream",
     "text": [
      "Feature: 1stD_offense, Score: 0.08\n",
      "Feature: TotYd_offense, Score: 0.56\n",
      "Feature: PassY_offense, Score: 0.0\n",
      "Feature: RushY_offense, Score: 0.13\n",
      "Feature: TO_offense, Score: 0.75\n",
      "Feature: 1stD_defense, Score: 0.19\n",
      "Feature: TotYd_defense, Score: 0.6\n",
      "Feature: PassY_defense, Score: 0.0\n",
      "Feature: RushY_defense, Score: 0.21\n",
      "Feature: TO_defense, Score: 0.75\n"
     ]
    }
   ],
   "source": [
    "# get importance\n",
    "importance = abs(optLr.coef_[0])\n",
    "\n",
    "# visualize feature importance\n",
    "sns.barplot(x = features.columns, y = importance)\n",
    "\n",
    "# add labels and titles\n",
    "plt.suptitle('Feature Importance for Logistic Regression')\n",
    "plt.xlabel('Score')\n",
    "plt.ylabel('Stat')\n",
    "plt.show()\n",
    "\n",
    "\n",
    "# summarize feature importance\n",
    "for i,v in enumerate(importance.round(2)):\n",
    "    print(f'Feature: {features.columns[i]}, Score: {v}')"
   ]
  },
  {
   "cell_type": "markdown",
   "id": "4391d736",
   "metadata": {},
   "source": [
    "This chart indicates that the most important stats in the model were turnovers: `TO_offense` and `TO_defense` both had an absolute value of 0.75."
   ]
  },
  {
   "cell_type": "markdown",
   "id": "79280316",
   "metadata": {},
   "source": [
    "## Conclusion"
   ]
  },
  {
   "cell_type": "markdown",
   "id": "a6c1c192",
   "metadata": {},
   "source": [
    "### Task 13 - Try your model on new data\n",
    "\n",
    "The model can also be tested on singular team data from 2022 - this data can be farmed from Pro Football Reference using the `get_new_data()` function. [Pro Football Reference](https://www.pro-football-reference.com/)."
   ]
  },
  {
   "cell_type": "code",
   "execution_count": 22,
   "id": "24269af0",
   "metadata": {
    "scrolled": true
   },
   "outputs": [
    {
     "data": {
      "text/html": [
       "<div>\n",
       "<style scoped>\n",
       "    .dataframe tbody tr th:only-of-type {\n",
       "        vertical-align: middle;\n",
       "    }\n",
       "\n",
       "    .dataframe tbody tr th {\n",
       "        vertical-align: top;\n",
       "    }\n",
       "\n",
       "    .dataframe thead th {\n",
       "        text-align: right;\n",
       "    }\n",
       "</style>\n",
       "<table border=\"1\" class=\"dataframe\">\n",
       "  <thead>\n",
       "    <tr style=\"text-align: right;\">\n",
       "      <th></th>\n",
       "      <th>team_name</th>\n",
       "      <th>week</th>\n",
       "      <th>day</th>\n",
       "      <th>date</th>\n",
       "      <th>result</th>\n",
       "      <th>opponent</th>\n",
       "      <th>tm_score</th>\n",
       "      <th>opp_score</th>\n",
       "      <th>1stD_offense</th>\n",
       "      <th>TotYd_offense</th>\n",
       "      <th>PassY_offense</th>\n",
       "      <th>RushY_offense</th>\n",
       "      <th>TO_offense</th>\n",
       "      <th>1stD_defense</th>\n",
       "      <th>TotYd_defense</th>\n",
       "      <th>PassY_defense</th>\n",
       "      <th>RushY_defense</th>\n",
       "      <th>TO_defense</th>\n",
       "    </tr>\n",
       "  </thead>\n",
       "  <tbody>\n",
       "    <tr>\n",
       "      <th>0</th>\n",
       "      <td>Dallas Cowboys</td>\n",
       "      <td>1</td>\n",
       "      <td>Sun</td>\n",
       "      <td>September 11</td>\n",
       "      <td>0</td>\n",
       "      <td>Tampa Bay Buccaneers</td>\n",
       "      <td>3</td>\n",
       "      <td>19</td>\n",
       "      <td>12</td>\n",
       "      <td>244</td>\n",
       "      <td>173</td>\n",
       "      <td>71</td>\n",
       "      <td>1</td>\n",
       "      <td>18</td>\n",
       "      <td>347</td>\n",
       "      <td>195</td>\n",
       "      <td>152</td>\n",
       "      <td>1</td>\n",
       "    </tr>\n",
       "    <tr>\n",
       "      <th>1</th>\n",
       "      <td>Dallas Cowboys</td>\n",
       "      <td>2</td>\n",
       "      <td>Sun</td>\n",
       "      <td>September 18</td>\n",
       "      <td>1</td>\n",
       "      <td>Cincinnati Bengals</td>\n",
       "      <td>20</td>\n",
       "      <td>17</td>\n",
       "      <td>19</td>\n",
       "      <td>337</td>\n",
       "      <td>230</td>\n",
       "      <td>107</td>\n",
       "      <td>1</td>\n",
       "      <td>19</td>\n",
       "      <td>254</td>\n",
       "      <td>165</td>\n",
       "      <td>89</td>\n",
       "      <td>0</td>\n",
       "    </tr>\n",
       "    <tr>\n",
       "      <th>2</th>\n",
       "      <td>Dallas Cowboys</td>\n",
       "      <td>3</td>\n",
       "      <td>Mon</td>\n",
       "      <td>September 26</td>\n",
       "      <td>1</td>\n",
       "      <td>New York Giants</td>\n",
       "      <td>23</td>\n",
       "      <td>16</td>\n",
       "      <td>23</td>\n",
       "      <td>391</td>\n",
       "      <td>215</td>\n",
       "      <td>176</td>\n",
       "      <td>0</td>\n",
       "      <td>22</td>\n",
       "      <td>336</td>\n",
       "      <td>169</td>\n",
       "      <td>167</td>\n",
       "      <td>1</td>\n",
       "    </tr>\n",
       "    <tr>\n",
       "      <th>3</th>\n",
       "      <td>Dallas Cowboys</td>\n",
       "      <td>4</td>\n",
       "      <td>Sun</td>\n",
       "      <td>October 2</td>\n",
       "      <td>1</td>\n",
       "      <td>Washington Commanders</td>\n",
       "      <td>25</td>\n",
       "      <td>10</td>\n",
       "      <td>15</td>\n",
       "      <td>279</td>\n",
       "      <td>217</td>\n",
       "      <td>62</td>\n",
       "      <td>0</td>\n",
       "      <td>17</td>\n",
       "      <td>297</td>\n",
       "      <td>155</td>\n",
       "      <td>142</td>\n",
       "      <td>2</td>\n",
       "    </tr>\n",
       "    <tr>\n",
       "      <th>4</th>\n",
       "      <td>Dallas Cowboys</td>\n",
       "      <td>5</td>\n",
       "      <td>Sun</td>\n",
       "      <td>October 9</td>\n",
       "      <td>1</td>\n",
       "      <td>Los Angeles Rams</td>\n",
       "      <td>22</td>\n",
       "      <td>10</td>\n",
       "      <td>10</td>\n",
       "      <td>239</td>\n",
       "      <td>76</td>\n",
       "      <td>163</td>\n",
       "      <td>0</td>\n",
       "      <td>14</td>\n",
       "      <td>323</td>\n",
       "      <td>285</td>\n",
       "      <td>38</td>\n",
       "      <td>3</td>\n",
       "    </tr>\n",
       "  </tbody>\n",
       "</table>\n",
       "</div>"
      ],
      "text/plain": [
       "        team_name  week  day          date result               opponent  \\\n",
       "0  Dallas Cowboys     1  Sun  September 11      0   Tampa Bay Buccaneers   \n",
       "1  Dallas Cowboys     2  Sun  September 18      1     Cincinnati Bengals   \n",
       "2  Dallas Cowboys     3  Mon  September 26      1        New York Giants   \n",
       "3  Dallas Cowboys     4  Sun     October 2      1  Washington Commanders   \n",
       "4  Dallas Cowboys     5  Sun     October 9      1       Los Angeles Rams   \n",
       "\n",
       "  tm_score opp_score 1stD_offense TotYd_offense PassY_offense RushY_offense  \\\n",
       "0        3        19           12           244           173            71   \n",
       "1       20        17           19           337           230           107   \n",
       "2       23        16           23           391           215           176   \n",
       "3       25        10           15           279           217            62   \n",
       "4       22        10           10           239            76           163   \n",
       "\n",
       "  TO_offense 1stD_defense TotYd_defense PassY_defense RushY_defense TO_defense  \n",
       "0          1           18           347           195           152          1  \n",
       "1          1           19           254           165            89          0  \n",
       "2          0           22           336           169           167          1  \n",
       "3          0           17           297           155           142          2  \n",
       "4          0           14           323           285            38          3  "
      ]
     },
     "execution_count": 22,
     "metadata": {},
     "output_type": "execute_result"
    }
   ],
   "source": [
    "# set team abbreviation (in capitals) and year\n",
    "team = 'Dallas Cowboys'\n",
    "year = 2022\n",
    "\n",
    "# use helper function to pull new data\n",
    "from helper import get_new_data\n",
    "new_data = get_new_data(team=team, year=year)\n",
    "\n",
    "# view head of new data\n",
    "new_data.head()"
   ]
  },
  {
   "cell_type": "code",
   "execution_count": 23,
   "id": "f5f56c37",
   "metadata": {},
   "outputs": [],
   "source": [
    "# select just the game stats\n",
    "new_X = new_data.loc[:,features.columns]\n",
    "\n",
    "# standardize using original data's scaling\n",
    "new_X_sc = scaler.transform(new_X)"
   ]
  },
  {
   "cell_type": "code",
   "execution_count": 24,
   "id": "0d3fe65e",
   "metadata": {},
   "outputs": [],
   "source": [
    "# get new predictions\n",
    "new_preds = optLr.predict(new_X_sc)\n",
    "\n",
    "# get actual results and set type to float\n",
    "new_results = new_data['result'].astype(float)\n",
    "\n",
    "# get accuracy score for new data\n",
    "acc_score = accuracy_score(new_results, new_preds)"
   ]
  },
  {
   "cell_type": "code",
   "execution_count": 25,
   "id": "8f51e427",
   "metadata": {},
   "outputs": [],
   "source": [
    "# select only game data\n",
    "col_names = ['day', 'date', 'result', 'opponent', 'tm_score', 'opp_score']\n",
    "game_data = new_data.loc[:,col_names]\n",
    "# create comparison table\n",
    "comp_table = game_data.assign(predicted = new_preds,\n",
    "                              actual = new_results.astype(int))"
   ]
  },
  {
   "cell_type": "code",
   "execution_count": 26,
   "id": "571f96f9",
   "metadata": {},
   "outputs": [
    {
     "name": "stdout",
     "output_type": "stream",
     "text": [
      "Predicted Wins vs Actual Wins for Dallas Cowboys in 2022\n"
     ]
    },
    {
     "data": {
      "text/html": [
       "<div>\n",
       "<style scoped>\n",
       "    .dataframe tbody tr th:only-of-type {\n",
       "        vertical-align: middle;\n",
       "    }\n",
       "\n",
       "    .dataframe tbody tr th {\n",
       "        vertical-align: top;\n",
       "    }\n",
       "\n",
       "    .dataframe thead th {\n",
       "        text-align: right;\n",
       "    }\n",
       "</style>\n",
       "<table border=\"1\" class=\"dataframe\">\n",
       "  <thead>\n",
       "    <tr style=\"text-align: right;\">\n",
       "      <th></th>\n",
       "      <th>day</th>\n",
       "      <th>date</th>\n",
       "      <th>result</th>\n",
       "      <th>opponent</th>\n",
       "      <th>tm_score</th>\n",
       "      <th>opp_score</th>\n",
       "      <th>predicted</th>\n",
       "      <th>actual</th>\n",
       "    </tr>\n",
       "  </thead>\n",
       "  <tbody>\n",
       "    <tr>\n",
       "      <th>0</th>\n",
       "      <td>Sun</td>\n",
       "      <td>September 11</td>\n",
       "      <td>0</td>\n",
       "      <td>Tampa Bay Buccaneers</td>\n",
       "      <td>3</td>\n",
       "      <td>19</td>\n",
       "      <td>0</td>\n",
       "      <td>0</td>\n",
       "    </tr>\n",
       "    <tr>\n",
       "      <th>1</th>\n",
       "      <td>Sun</td>\n",
       "      <td>September 18</td>\n",
       "      <td>1</td>\n",
       "      <td>Cincinnati Bengals</td>\n",
       "      <td>20</td>\n",
       "      <td>17</td>\n",
       "      <td>1</td>\n",
       "      <td>1</td>\n",
       "    </tr>\n",
       "    <tr>\n",
       "      <th>2</th>\n",
       "      <td>Mon</td>\n",
       "      <td>September 26</td>\n",
       "      <td>1</td>\n",
       "      <td>New York Giants</td>\n",
       "      <td>23</td>\n",
       "      <td>16</td>\n",
       "      <td>1</td>\n",
       "      <td>1</td>\n",
       "    </tr>\n",
       "    <tr>\n",
       "      <th>3</th>\n",
       "      <td>Sun</td>\n",
       "      <td>October 2</td>\n",
       "      <td>1</td>\n",
       "      <td>Washington Commanders</td>\n",
       "      <td>25</td>\n",
       "      <td>10</td>\n",
       "      <td>1</td>\n",
       "      <td>1</td>\n",
       "    </tr>\n",
       "    <tr>\n",
       "      <th>4</th>\n",
       "      <td>Sun</td>\n",
       "      <td>October 9</td>\n",
       "      <td>1</td>\n",
       "      <td>Los Angeles Rams</td>\n",
       "      <td>22</td>\n",
       "      <td>10</td>\n",
       "      <td>1</td>\n",
       "      <td>1</td>\n",
       "    </tr>\n",
       "    <tr>\n",
       "      <th>5</th>\n",
       "      <td>Sun</td>\n",
       "      <td>October 16</td>\n",
       "      <td>0</td>\n",
       "      <td>Philadelphia Eagles</td>\n",
       "      <td>17</td>\n",
       "      <td>26</td>\n",
       "      <td>0</td>\n",
       "      <td>0</td>\n",
       "    </tr>\n",
       "    <tr>\n",
       "      <th>6</th>\n",
       "      <td>Sun</td>\n",
       "      <td>October 23</td>\n",
       "      <td>1</td>\n",
       "      <td>Detroit Lions</td>\n",
       "      <td>24</td>\n",
       "      <td>6</td>\n",
       "      <td>1</td>\n",
       "      <td>1</td>\n",
       "    </tr>\n",
       "    <tr>\n",
       "      <th>7</th>\n",
       "      <td>Sun</td>\n",
       "      <td>October 30</td>\n",
       "      <td>1</td>\n",
       "      <td>Chicago Bears</td>\n",
       "      <td>49</td>\n",
       "      <td>29</td>\n",
       "      <td>1</td>\n",
       "      <td>1</td>\n",
       "    </tr>\n",
       "    <tr>\n",
       "      <th>8</th>\n",
       "      <td>Sun</td>\n",
       "      <td>November 13</td>\n",
       "      <td>0</td>\n",
       "      <td>Green Bay Packers</td>\n",
       "      <td>28</td>\n",
       "      <td>31</td>\n",
       "      <td>0</td>\n",
       "      <td>0</td>\n",
       "    </tr>\n",
       "    <tr>\n",
       "      <th>9</th>\n",
       "      <td>Sun</td>\n",
       "      <td>November 20</td>\n",
       "      <td>1</td>\n",
       "      <td>Minnesota Vikings</td>\n",
       "      <td>40</td>\n",
       "      <td>3</td>\n",
       "      <td>1</td>\n",
       "      <td>1</td>\n",
       "    </tr>\n",
       "    <tr>\n",
       "      <th>10</th>\n",
       "      <td>Thu</td>\n",
       "      <td>November 24</td>\n",
       "      <td>1</td>\n",
       "      <td>New York Giants</td>\n",
       "      <td>28</td>\n",
       "      <td>20</td>\n",
       "      <td>0</td>\n",
       "      <td>1</td>\n",
       "    </tr>\n",
       "    <tr>\n",
       "      <th>11</th>\n",
       "      <td>Sun</td>\n",
       "      <td>December 4</td>\n",
       "      <td>1</td>\n",
       "      <td>Indianapolis Colts</td>\n",
       "      <td>54</td>\n",
       "      <td>19</td>\n",
       "      <td>1</td>\n",
       "      <td>1</td>\n",
       "    </tr>\n",
       "    <tr>\n",
       "      <th>12</th>\n",
       "      <td>Sun</td>\n",
       "      <td>December 11</td>\n",
       "      <td>1</td>\n",
       "      <td>Houston Texans</td>\n",
       "      <td>27</td>\n",
       "      <td>23</td>\n",
       "      <td>1</td>\n",
       "      <td>1</td>\n",
       "    </tr>\n",
       "    <tr>\n",
       "      <th>13</th>\n",
       "      <td>Sun</td>\n",
       "      <td>December 18</td>\n",
       "      <td>0</td>\n",
       "      <td>Jacksonville Jaguars</td>\n",
       "      <td>34</td>\n",
       "      <td>40</td>\n",
       "      <td>0</td>\n",
       "      <td>0</td>\n",
       "    </tr>\n",
       "    <tr>\n",
       "      <th>14</th>\n",
       "      <td>Sat</td>\n",
       "      <td>December 24</td>\n",
       "      <td>1</td>\n",
       "      <td>Philadelphia Eagles</td>\n",
       "      <td>40</td>\n",
       "      <td>34</td>\n",
       "      <td>1</td>\n",
       "      <td>1</td>\n",
       "    </tr>\n",
       "    <tr>\n",
       "      <th>15</th>\n",
       "      <td>Thu</td>\n",
       "      <td>December 29</td>\n",
       "      <td>1</td>\n",
       "      <td>Tennessee Titans</td>\n",
       "      <td>27</td>\n",
       "      <td>13</td>\n",
       "      <td>0</td>\n",
       "      <td>1</td>\n",
       "    </tr>\n",
       "    <tr>\n",
       "      <th>16</th>\n",
       "      <td>Sun</td>\n",
       "      <td>January 8</td>\n",
       "      <td>0</td>\n",
       "      <td>Washington Commanders</td>\n",
       "      <td>6</td>\n",
       "      <td>26</td>\n",
       "      <td>0</td>\n",
       "      <td>0</td>\n",
       "    </tr>\n",
       "    <tr>\n",
       "      <th>17</th>\n",
       "      <td>Mon</td>\n",
       "      <td>January 16</td>\n",
       "      <td>1</td>\n",
       "      <td>Tampa Bay Buccaneers</td>\n",
       "      <td>31</td>\n",
       "      <td>14</td>\n",
       "      <td>1</td>\n",
       "      <td>1</td>\n",
       "    </tr>\n",
       "    <tr>\n",
       "      <th>18</th>\n",
       "      <td>Sun</td>\n",
       "      <td>January 22</td>\n",
       "      <td>0</td>\n",
       "      <td>San Francisco 49ers</td>\n",
       "      <td>12</td>\n",
       "      <td>19</td>\n",
       "      <td>0</td>\n",
       "      <td>0</td>\n",
       "    </tr>\n",
       "  </tbody>\n",
       "</table>\n",
       "</div>"
      ],
      "text/plain": [
       "    day          date result               opponent tm_score opp_score  \\\n",
       "0   Sun  September 11      0   Tampa Bay Buccaneers        3        19   \n",
       "1   Sun  September 18      1     Cincinnati Bengals       20        17   \n",
       "2   Mon  September 26      1        New York Giants       23        16   \n",
       "3   Sun     October 2      1  Washington Commanders       25        10   \n",
       "4   Sun     October 9      1       Los Angeles Rams       22        10   \n",
       "5   Sun    October 16      0    Philadelphia Eagles       17        26   \n",
       "6   Sun    October 23      1          Detroit Lions       24         6   \n",
       "7   Sun    October 30      1          Chicago Bears       49        29   \n",
       "8   Sun   November 13      0      Green Bay Packers       28        31   \n",
       "9   Sun   November 20      1      Minnesota Vikings       40         3   \n",
       "10  Thu   November 24      1        New York Giants       28        20   \n",
       "11  Sun    December 4      1     Indianapolis Colts       54        19   \n",
       "12  Sun   December 11      1         Houston Texans       27        23   \n",
       "13  Sun   December 18      0   Jacksonville Jaguars       34        40   \n",
       "14  Sat   December 24      1    Philadelphia Eagles       40        34   \n",
       "15  Thu   December 29      1       Tennessee Titans       27        13   \n",
       "16  Sun     January 8      0  Washington Commanders        6        26   \n",
       "17  Mon    January 16      1   Tampa Bay Buccaneers       31        14   \n",
       "18  Sun    January 22      0    San Francisco 49ers       12        19   \n",
       "\n",
       "    predicted  actual  \n",
       "0           0       0  \n",
       "1           1       1  \n",
       "2           1       1  \n",
       "3           1       1  \n",
       "4           1       1  \n",
       "5           0       0  \n",
       "6           1       1  \n",
       "7           1       1  \n",
       "8           0       0  \n",
       "9           1       1  \n",
       "10          0       1  \n",
       "11          1       1  \n",
       "12          1       1  \n",
       "13          0       0  \n",
       "14          1       1  \n",
       "15          0       1  \n",
       "16          0       0  \n",
       "17          1       1  \n",
       "18          0       0  "
      ]
     },
     "execution_count": 26,
     "metadata": {},
     "output_type": "execute_result"
    }
   ],
   "source": [
    "# print title and table\n",
    "print(f'Predicted Wins vs Actual Wins for {team} in {year}')\n",
    "comp_table"
   ]
  },
  {
   "cell_type": "code",
   "execution_count": 27,
   "id": "057cec1b",
   "metadata": {},
   "outputs": [
    {
     "name": "stdout",
     "output_type": "stream",
     "text": [
      "\n",
      "Current Accuracy Score: 89.5%\n"
     ]
    }
   ],
   "source": [
    "# print accuracy\n",
    "print(f'\\nCurrent Accuracy Score: ' + str(round(acc_score*100,1)) + '%')"
   ]
  }
 ],
 "metadata": {
  "kernelspec": {
   "display_name": "Python [conda env:base] *",
   "language": "python",
   "name": "conda-base-py"
  },
  "language_info": {
   "codemirror_mode": {
    "name": "ipython",
    "version": 3
   },
   "file_extension": ".py",
   "mimetype": "text/x-python",
   "name": "python",
   "nbconvert_exporter": "python",
   "pygments_lexer": "ipython3",
   "version": "3.12.7"
  }
 },
 "nbformat": 4,
 "nbformat_minor": 5
}
